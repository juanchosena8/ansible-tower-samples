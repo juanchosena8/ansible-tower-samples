{
  "nbformat": 4,
  "nbformat_minor": 0,
  "metadata": {
    "colab": {
      "provenance": [],
      "authorship_tag": "ABX9TyP9qxfhrLp1o74Vq499g5x0",
      "include_colab_link": true
    },
    "kernelspec": {
      "name": "python3",
      "display_name": "Python 3"
    },
    "language_info": {
      "name": "python"
    }
  },
  "cells": [
    {
      "cell_type": "markdown",
      "metadata": {
        "id": "view-in-github",
        "colab_type": "text"
      },
      "source": [
        "<a href=\"https://colab.research.google.com/github/juanchosena8/ansible-tower-samples/blob/master/proyecto_final_grupo_3.ipynb\" target=\"_parent\"><img src=\"https://colab.research.google.com/assets/colab-badge.svg\" alt=\"Open In Colab\"/></a>"
      ]
    },
    {
      "cell_type": "markdown",
      "source": [
        "Presentación"
      ],
      "metadata": {
        "id": "KONT_abBumR-"
      }
    },
    {
      "cell_type": "code",
      "source": [],
      "metadata": {
        "id": "Gni6LpBUuwRt"
      },
      "execution_count": null,
      "outputs": []
    },
    {
      "cell_type": "markdown",
      "source": [
        "# Justificación"
      ],
      "metadata": {
        "id": "x7SX-j9husso"
      }
    },
    {
      "cell_type": "code",
      "source": [],
      "metadata": {
        "id": "tfQEZRx-uw5k"
      },
      "execution_count": null,
      "outputs": []
    },
    {
      "cell_type": "markdown",
      "source": [
        "# Ingestión de Datos"
      ],
      "metadata": {
        "id": "IV9bcD6gwNr0"
      }
    },
    {
      "cell_type": "code",
      "source": [],
      "metadata": {
        "id": "nDjviIZ9wQ9V"
      },
      "execution_count": null,
      "outputs": []
    },
    {
      "cell_type": "markdown",
      "source": [
        "# Preparación y Limpieza"
      ],
      "metadata": {
        "id": "Gd44Y5Jkuxig"
      }
    },
    {
      "cell_type": "code",
      "source": [],
      "metadata": {
        "id": "sQ3iQLuRu2oC"
      },
      "execution_count": null,
      "outputs": []
    },
    {
      "cell_type": "markdown",
      "source": [
        "# Analítica Descriptiva"
      ],
      "metadata": {
        "id": "-KVBw-cJu3Tg"
      }
    },
    {
      "cell_type": "code",
      "source": [],
      "metadata": {
        "id": "unQutYruvbGu"
      },
      "execution_count": null,
      "outputs": []
    }
  ]
}